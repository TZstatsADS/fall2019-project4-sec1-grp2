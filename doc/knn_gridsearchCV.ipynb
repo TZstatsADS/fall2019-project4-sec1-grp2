{
 "cells": [
  {
   "cell_type": "code",
   "execution_count": 5,
   "metadata": {},
   "outputs": [],
   "source": [
    "import numpy as np\n",
    "import pandas as pd\n",
    "import seaborn as sns\n",
    "import matplotlib.pyplot as plt"
   ]
  },
  {
   "cell_type": "code",
   "execution_count": 6,
   "metadata": {},
   "outputs": [],
   "source": [
    "from surprise import Reader, Dataset\n",
    "from surprise.model_selection import train_test_split\n",
    "from surprise import BaselineOnly, accuracy\n",
    "from surprise.accuracy import rmse\n",
    "from surprise import KNNBasic\n",
    "from surprise.model_selection import GridSearchCV"
   ]
  },
  {
   "cell_type": "code",
   "execution_count": 7,
   "metadata": {},
   "outputs": [],
   "source": [
    "filepath = 'C:/Users/samir/Documents/code/r/ads/proj4/'"
   ]
  },
  {
   "cell_type": "markdown",
   "metadata": {},
   "source": [
    "def svd_knn(method = 11, n_epochs = [5, 10], reg_u = [13, 15, 17], reg_i = [8, 10, 12], cv = 5):\n",
    "    reader = Reader()\n",
    "    if method == 11:\n",
    "        cols = ['movieId', 'userId', 'rating']\n",
    "        ratings = pd.read_csv(filepath + 'data/ml-latest-small/ratings.csv', usecols = cols)\n",
    "        data = Dataset.load_from_df(ratings, reader)\n",
    "        train, test = train_test_split(data, test_size = 0.2)\n",
    "        hyperparameters = {'k': [1], # using one nearest neighbor for cosine similarity\n",
    "                           'n_epochs':n_epochs,\n",
    "                           'bsl_options': {'method': ['als'],\n",
    "                                           'reg_u': reg_u,\n",
    "                                           'reg_i': reg_i},\n",
    "                           'sim_options': {'name': ['cosine'],\n",
    "                                           'user_based': [False]}}\n",
    "        grid_search = GridSearchCV(KNNBasic, hyperparameters, measures=['rmse'], cv = cv)\n",
    "        grid_search.fit(data)\n",
    "        cv_rmse = grid_search.best_score['rmse']\n",
    "        final_model = grid_search.best_estimator['rmse']\n",
    "        final_model.fit(data.build_full_trainset())\n",
    "        grid_search_results = pd.DataFrame.from_dict(grid_search.cv_results)\n",
    "        predictions = final_model.test(test)\n",
    "        rmse_pred = rmse(predictions, verbose = True)\n",
    "        return final_model, grid_search_results, rmse_pred\n",
    "    \n",
    "svd_knn()    "
   ]
  }
 ],
 "metadata": {
  "kernelspec": {
   "display_name": "Python 3",
   "language": "python",
   "name": "python3"
  },
  "language_info": {
   "codemirror_mode": {
    "name": "ipython",
    "version": 3
   },
   "file_extension": ".py",
   "mimetype": "text/x-python",
   "name": "python",
   "nbconvert_exporter": "python",
   "pygments_lexer": "ipython3",
   "version": "3.6.5"
  }
 },
 "nbformat": 4,
 "nbformat_minor": 2
}
