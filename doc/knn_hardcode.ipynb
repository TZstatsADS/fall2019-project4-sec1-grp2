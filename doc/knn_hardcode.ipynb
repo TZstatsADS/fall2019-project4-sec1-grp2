{
 "cells": [
  {
   "cell_type": "code",
   "execution_count": 1,
   "metadata": {},
   "outputs": [],
   "source": [
    "import pandas as pd\n",
    "import numpy as np\n",
    "#from sklearn.neighbors import NearestNeighbors\n",
    "from numpy import array\n",
    "from numpy.linalg import norm\n",
    "\n",
    "from operator import itemgetter\n",
    "import timeit"
   ]
  },
  {
   "cell_type": "code",
   "execution_count": 2,
   "metadata": {},
   "outputs": [],
   "source": [
    "def cosine_similarity_all(test_movie_id):\n",
    "    \"\"\"\n",
    "    Global variable\n",
    "    ------\n",
    "        data_train: train part of rating.csv\n",
    "        \n",
    "    Input\n",
    "    -----\n",
    "        test_movie_id: the id of movie that want to test,int. for testing purpose should also match same user\n",
    "    Return\n",
    "    \n",
    "    ----\n",
    "        \"\"\"\n",
    "  \n",
    "    ###########\n",
    "    movie_test_id_str_list = list(str(test_movie_id))\n",
    "\n",
    "    movie_compare_id = [item for item in movie_id if item not in movie_test_id_str_list] #movie_id list without test id\n",
    "    ###############\n",
    "\n",
    "    l_latent_movie = []\n",
    "    movie_cos_dic = {}\n",
    "    for i in movie_compare_id:\n",
    "       # print(i,type(i)) 2，str\n",
    "\n",
    "        numerator =array([val\n",
    "                      for sublist in np.asarray(q[[movie_test_id_str_list[0]]]).tolist()\n",
    "                      for val in sublist]).dot(array([val\n",
    "                      for sublist in np.asarray(q[[i]]).tolist()\n",
    "                      for val in sublist]))\n",
    "\n",
    "        cosin_s = numerator/(norm([val\n",
    "                      for sublist in np.asarray(q[[movie_test_id_str_list[0]]]).tolist()\n",
    "                      for val in sublist])*norm([val\n",
    "                      for sublist in np.asarray(q[[i]]).tolist()\n",
    "                      for val in sublist]))\n",
    "        l_latent_movie.append(cosin_s)\n",
    "\n",
    "\n",
    "        dict_movieid_cos = dict(zip(movie_compare_id,l_latent_movie))\n",
    "        l_sorted_s_to_l = sorted(dict_movieid_cos.items(), key=itemgetter(1)) #from small to large\n",
    "\n",
    "    return ([ele for ele in reversed(l_sorted_s_to_l)])\n"
   ]
  },
  {
   "cell_type": "code",
   "execution_count": 3,
   "metadata": {},
   "outputs": [],
   "source": [
    "def knn_k_pq(test_movie_id,df,userid):\n",
    "    \"\"\"\n",
    "    Input\n",
    "    -----\n",
    "        test_movie_id: the id of movie that want to test,str. for testing purpose should also match same user\n",
    "        df: df_mat（only pq)\n",
    "        userid： int\n",
    "    Return\n",
    "    -----\n",
    "        a list of  predicted rating for given movie id for given user given year of matrix\n",
    "        \n",
    "        \"\"\"\n",
    "    distance_pair = cosine_similarity_all(test_movie_id)\n",
    "\n",
    "    movie_index = b_item_dic.get(distance_pair[0][0])\n",
    "    user_index = b_user_dic.get(str(userid))\n",
    "    \n",
    "    rating_predict = df[user_index][movie_index]\n",
    "    \n",
    "    return round(rating_predict,1)"
   ]
  },
  {
   "cell_type": "code",
   "execution_count": null,
   "metadata": {},
   "outputs": [],
   "source": []
  },
  {
   "cell_type": "code",
   "execution_count": null,
   "metadata": {},
   "outputs": [],
   "source": []
  },
  {
   "cell_type": "code",
   "execution_count": null,
   "metadata": {},
   "outputs": [],
   "source": []
  },
  {
   "cell_type": "code",
   "execution_count": null,
   "metadata": {},
   "outputs": [],
   "source": []
  }
 ],
 "metadata": {
  "kernelspec": {
   "display_name": "Python 3",
   "language": "python",
   "name": "python3"
  },
  "language_info": {
   "codemirror_mode": {
    "name": "ipython",
    "version": 3
   },
   "file_extension": ".py",
   "mimetype": "text/x-python",
   "name": "python",
   "nbconvert_exporter": "python",
   "pygments_lexer": "ipython3",
   "version": "3.7.1"
  }
 },
 "nbformat": 4,
 "nbformat_minor": 2
}
